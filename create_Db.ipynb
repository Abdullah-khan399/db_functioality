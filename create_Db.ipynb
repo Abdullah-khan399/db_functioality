{
 "cells": [
  {
   "cell_type": "code",
   "execution_count": 1,
   "source": [
    "#Connect to the SQLite database and \r\n",
    "# Creating a new SQLite database \r\n",
    "import sqlite3\r\n",
    "con = sqlite3.connect('Movies_db1.db')"
   ],
   "outputs": [],
   "metadata": {}
  },
  {
   "cell_type": "code",
   "execution_count": 2,
   "source": [
    "cur = con.cursor()\r\n",
    " \r\n",
    "#Create table\r\n",
    "cur.execute('''CREATE TABLE Movies\r\n",
    "               (MovieNames text primary key, LeadActorActress text, YearOfRelease text, DName text)''')"
   ],
   "outputs": [
    {
     "output_type": "execute_result",
     "data": {
      "text/plain": [
       "<sqlite3.Cursor at 0x27806bc7030>"
      ]
     },
     "metadata": {},
     "execution_count": 2
    }
   ],
   "metadata": {}
  },
  {
   "cell_type": "code",
   "execution_count": 3,
   "source": [
    "# Insert a row of data\r\n",
    "cur.execute('''INSERT INTO Movies VALUES\r\n",
    "               (\"Bodyguard\", \"Salman Khan and Kareena Kapoor \", \"2011\", \"Raj Babbar\")''')\r\n",
    "\r\n",
    "cur.execute('''INSERT INTO Movies VALUES\r\n",
    "               (\"PK\", \"Amir Khan and Anuska Shamra\", \"2014\", \"Vinod Chopra \")''')\r\n"
   ],
   "outputs": [
    {
     "output_type": "execute_result",
     "data": {
      "text/plain": [
       "<sqlite3.Cursor at 0x27806bc7030>"
      ]
     },
     "metadata": {},
     "execution_count": 3
    }
   ],
   "metadata": {}
  },
  {
   "cell_type": "code",
   "execution_count": 4,
   "source": [
    "con.commit()"
   ],
   "outputs": [],
   "metadata": {}
  },
  {
   "cell_type": "code",
   "execution_count": 5,
   "source": [
    "#Querying data from Movies table\r\n",
    "for row in cur.execute('SELECT * FROM Movies ORDER BY MovieNames'):\r\n",
    "        print(row)"
   ],
   "outputs": [
    {
     "output_type": "stream",
     "name": "stdout",
     "text": [
      "('Bodyguard', 'Salman Khan and Kareena Kapoor ', '2011', 'Raj Babbar')\n",
      "('PK', 'Amir Khan and Anuska Shamra', '2014', 'Vinod Chopra ')\n"
     ]
    }
   ],
   "metadata": {}
  },
  {
   "cell_type": "code",
   "execution_count": 20,
   "source": [
    "cur.execute(\"SELECT MovieNames FROM Movies\")\r\n",
    "print(cur.fetchall()[:])\r\n"
   ],
   "outputs": [
    {
     "output_type": "stream",
     "name": "stdout",
     "text": [
      "[('Bodyguard',), ('PK',)]\n"
     ]
    }
   ],
   "metadata": {}
  },
  {
   "cell_type": "code",
   "execution_count": 22,
   "source": [
    "cur.execute(\"SELECT MovieNames FROM Movies\")\r\n",
    "print(cur.fetchall()[-1:])"
   ],
   "outputs": [
    {
     "output_type": "stream",
     "name": "stdout",
     "text": [
      "[('PK',)]\n"
     ]
    }
   ],
   "metadata": {}
  },
  {
   "cell_type": "code",
   "execution_count": 26,
   "source": [
    "cur.execute(\"SELECT MovieNames FROM Movies\")\r\n",
    "print(cur.fetchall()[0])"
   ],
   "outputs": [
    {
     "output_type": "stream",
     "name": "stdout",
     "text": [
      "('Bodyguard',)\n"
     ]
    }
   ],
   "metadata": {}
  },
  {
   "cell_type": "code",
   "execution_count": 37,
   "source": [
    "for row in cur.execute(\"SELECT MovieNames, LeadActorActress, YearOfRelease, DName FROM Movies where MovieNames = 'Bodyguard'\"):\r\n",
    "    print(row)"
   ],
   "outputs": [
    {
     "output_type": "stream",
     "name": "stdout",
     "text": [
      "('Bodyguard', 'Salman Khan and Kareena Kapoor ', '2011', 'Raj Babbar')\n"
     ]
    }
   ],
   "metadata": {}
  },
  {
   "cell_type": "code",
   "execution_count": 38,
   "source": [
    "for row in cur.execute(\"SELECT MovieNames, LeadActorActress, YearOfRelease, DName FROM Movies where MovieNames = 'PK'\"):\r\n",
    "    print(row)"
   ],
   "outputs": [
    {
     "output_type": "stream",
     "name": "stdout",
     "text": [
      "('PK', 'Amir Khan and Anuska Shamra', '2014', 'Vinod Chopra ')\n"
     ]
    }
   ],
   "metadata": {}
  },
  {
   "cell_type": "code",
   "execution_count": null,
   "source": [],
   "outputs": [],
   "metadata": {}
  }
 ],
 "metadata": {
  "orig_nbformat": 4,
  "language_info": {
   "name": "python",
   "version": "3.9.2",
   "mimetype": "text/x-python",
   "codemirror_mode": {
    "name": "ipython",
    "version": 3
   },
   "pygments_lexer": "ipython3",
   "nbconvert_exporter": "python",
   "file_extension": ".py"
  },
  "kernelspec": {
   "name": "python3",
   "display_name": "Python 3.9.2 64-bit"
  },
  "interpreter": {
   "hash": "ac59ebe37160ed0dfa835113d9b8498d9f09ceb179beaac4002f036b9467c963"
  }
 },
 "nbformat": 4,
 "nbformat_minor": 2
}